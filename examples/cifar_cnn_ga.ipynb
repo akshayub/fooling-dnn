{
 "cells": [
  {
   "cell_type": "code",
   "execution_count": 18,
   "metadata": {
    "collapsed": true
   },
   "outputs": [],
   "source": [
    "import keras\n",
    "from keras.datasets import cifar10\n",
    "from keras.preprocessing.image import ImageDataGenerator\n",
    "from keras.models import Sequential, load_model\n",
    "from keras.layers import Dense, Dropout, Activation, Flatten, Conv2D, MaxPooling2D\n",
    "import numpy as np\n",
    "import os\n",
    "import matplotlib.pyplot as plt"
   ]
  },
  {
   "cell_type": "code",
   "execution_count": 79,
   "metadata": {},
   "outputs": [
    {
     "name": "stdout",
     "output_type": "stream",
     "text": [
      "x_train shape: (50000, 32, 32, 3)\n50000 train samples\n10000 test samples\n"
     ]
    }
   ],
   "source": [
    "batch_size = 32\n",
    "num_classes = 10\n",
    "epochs = 100\n",
    "data_augmentation = False\n",
    "num_predictions = 20\n",
    "save_dir = os.path.join(os.getcwd(), 'saved_models')\n",
    "model_name = 'keras_cifar10_trained_model.h5'\n",
    "\n",
    "# The data, shuffled and split between train and test sets:\n",
    "(x_train, y_train), (x_test, y_test) = cifar10.load_data()\n",
    "print('x_train shape:', x_train.shape)\n",
    "print(x_train.shape[0], 'train samples')\n",
    "print(x_test.shape[0], 'test samples')\n",
    "\n",
    "y_orig_train = np.copy(y_train)\n",
    "y_orig_test = np.copy(y_test)\n",
    "# Convert class vectors to binary class matrices.\n",
    "y_train = keras.utils.to_categorical(y_train, num_classes)\n",
    "y_test = keras.utils.to_categorical(y_test, num_classes)"
   ]
  },
  {
   "cell_type": "code",
   "execution_count": 80,
   "metadata": {},
   "outputs": [],
   "source": [
    "x_train = x_train.astype('float32')\n",
    "x_test = x_test.astype('float32')\n",
    "x_train /= 255\n",
    "x_test /= 255\n",
    "\n",
    "try:\n",
    "    model = load_model(\"/home/amithmkini/Projects/fooling-dnn/examples/saved_models/keras_cifar10_trained_model.h5\")\n",
    "except ValueError:\n",
    "    model = Sequential()\n",
    "    model.add(Conv2D(32, (3, 3), padding='same',\n",
    "                     input_shape=x_train.shape[1:]))\n",
    "    model.add(Activation('relu'))\n",
    "    model.add(Conv2D(32, (3, 3)))\n",
    "    model.add(Activation('relu'))\n",
    "    model.add(MaxPooling2D(pool_size=(2, 2)))\n",
    "    model.add(Dropout(0.25))\n",
    "    \n",
    "    model.add(Conv2D(64, (3, 3), padding='same'))\n",
    "    model.add(Activation('relu'))\n",
    "    model.add(Conv2D(64, (3, 3)))\n",
    "    model.add(Activation('relu'))\n",
    "    model.add(MaxPooling2D(pool_size=(2, 2)))\n",
    "    model.add(Dropout(0.25))\n",
    "    \n",
    "    model.add(Flatten())\n",
    "    model.add(Dense(512))\n",
    "    model.add(Activation('relu'))\n",
    "    model.add(Dropout(0.5))\n",
    "    model.add(Dense(num_classes))\n",
    "    model.add(Activation('softmax'))\n",
    "    \n",
    "    # initiate RMSprop optimizer\n",
    "    opt = keras.optimizers.rmsprop(lr=0.0001, decay=1e-6)\n",
    "    \n",
    "    # Let's train the model using RMSprop\n",
    "    model.compile(loss='categorical_crossentropy',\n",
    "                  optimizer=opt,\n",
    "                  metrics=['accuracy'])\n",
    "\n",
    "    if not data_augmentation:\n",
    "        print('Not using data augmentation.')\n",
    "        model.fit(x_train, y_train,\n",
    "                  batch_size=batch_size,\n",
    "                  epochs=epochs,\n",
    "                  validation_data=(x_test, y_test),\n",
    "                  shuffle=True)\n",
    "    else:\n",
    "        print('Using real-time data augmentation.')\n",
    "        # This will do preprocessing and realtime data augmentation:\n",
    "        datagen = ImageDataGenerator(\n",
    "            featurewise_center=False,  # set input mean to 0 over the dataset\n",
    "            samplewise_center=False,  # set each sample mean to 0\n",
    "            featurewise_std_normalization=False,  # divide inputs by std of the dataset\n",
    "            samplewise_std_normalization=False,  # divide each input by its std\n",
    "            zca_whitening=False,  # apply ZCA whitening\n",
    "            rotation_range=0,  # randomly rotate images in the range (degrees, 0 to 180)\n",
    "            width_shift_range=0.1,  # randomly shift images horizontally (fraction of total width)\n",
    "            height_shift_range=0.1,  # randomly shift images vertically (fraction of total height)\n",
    "            horizontal_flip=True,  # randomly flip images\n",
    "            vertical_flip=False)  # randomly flip images\n",
    "    \n",
    "        # Compute quantities required for feature-wise normalization\n",
    "        # (std, mean, and principal components if ZCA whitening is applied).\n",
    "        datagen.fit(x_train)\n",
    "    \n",
    "        # Fit the model on the batches generated by datagen.flow().\n",
    "        model.fit_generator(datagen.flow(x_train, y_train,\n",
    "                                         batch_size=batch_size),\n",
    "                            steps_per_epoch=x_train.shape[0] // batch_size,\n",
    "                            epochs=epochs,\n",
    "                            validation_data=(x_test, y_test),\n",
    "                            workers=4)\n"
   ]
  },
  {
   "cell_type": "code",
   "execution_count": 81,
   "metadata": {},
   "outputs": [
    {
     "name": "stdout",
     "output_type": "stream",
     "text": [
      "\r   32/10000 [..............................] - ETA: 69s"
     ]
    },
    {
     "name": "stdout",
     "output_type": "stream",
     "text": [
      "\b\b\b\b\b\b\b\b\b\b\b\b\b\b\b\b\b\b\b\b\b\b\b\b\b\b\b\b\b\b\b\b\b\b\b\b\b\b\b\b\b\b\b\b\b\b\b\b\b\b\b\b\b\b\b\r  224/10000 [..............................] - ETA: 12s"
     ]
    },
    {
     "name": "stdout",
     "output_type": "stream",
     "text": [
      "\b\b\b\b\b\b\b\b\b\b\b\b\b\b\b\b\b\b\b\b\b\b\b\b\b\b\b\b\b\b\b\b\b\b\b\b\b\b\b\b\b\b\b\b\b\b\b\b\b\b\b\b\b\b\b\r  384/10000 [>.............................] - ETA: 8s "
     ]
    },
    {
     "name": "stdout",
     "output_type": "stream",
     "text": [
      "\b\b\b\b\b\b\b\b\b\b\b\b\b\b\b\b\b\b\b\b\b\b\b\b\b\b\b\b\b\b\b\b\b\b\b\b\b\b\b\b\b\b\b\b\b\b\b\b\b\b\b\b\b\b\r  672/10000 [=>............................] - ETA: 5s"
     ]
    },
    {
     "name": "stdout",
     "output_type": "stream",
     "text": [
      "\b\b\b\b\b\b\b\b\b\b\b\b\b\b\b\b\b\b\b\b\b\b\b\b\b\b\b\b\b\b\b\b\b\b\b\b\b\b\b\b\b\b\b\b\b\b\b\b\b\b\b\b\b\b\r  896/10000 [=>............................] - ETA: 4s"
     ]
    },
    {
     "name": "stdout",
     "output_type": "stream",
     "text": [
      "\b\b\b\b\b\b\b\b\b\b\b\b\b\b\b\b\b\b\b\b\b\b\b\b\b\b\b\b\b\b\b\b\b\b\b\b\b\b\b\b\b\b\b\b\b\b\b\b\b\b\b\b\b\b\r 1152/10000 [==>...........................] - ETA: 3s"
     ]
    },
    {
     "name": "stdout",
     "output_type": "stream",
     "text": [
      "\b\b\b\b\b\b\b\b\b\b\b\b\b\b\b\b\b\b\b\b\b\b\b\b\b\b\b\b\b\b\b\b\b\b\b\b\b\b\b\b\b\b\b\b\b\b\b\b\b\b\b\b\b\b\r 1408/10000 [===>..........................] - ETA: 3s"
     ]
    },
    {
     "name": "stdout",
     "output_type": "stream",
     "text": [
      "\b\b\b\b\b\b\b\b\b\b\b\b\b\b\b\b\b\b\b\b\b\b\b\b\b\b\b\b\b\b\b\b\b\b\b\b\b\b\b\b\b\b\b\b\b\b\b\b\b\b\b\b\b\b\r 1664/10000 [===>..........................] - ETA: 2s"
     ]
    },
    {
     "name": "stdout",
     "output_type": "stream",
     "text": [
      "\b\b\b\b\b\b\b\b\b\b\b\b\b\b\b\b\b\b\b\b\b\b\b\b\b\b\b\b\b\b\b\b\b\b\b\b\b\b\b\b\b\b\b\b\b\b\b\b\b\b\b\b\b\b\r 1920/10000 [====>.........................] - ETA: 2s"
     ]
    },
    {
     "name": "stdout",
     "output_type": "stream",
     "text": [
      "\b\b\b\b\b\b\b\b\b\b\b\b\b\b\b\b\b\b\b\b\b\b\b\b\b\b\b\b\b\b\b\b\b\b\b\b\b\b\b\b\b\b\b\b\b\b\b\b\b\b\b\b\b\b\r 2176/10000 [=====>........................] - ETA: 2s"
     ]
    },
    {
     "name": "stdout",
     "output_type": "stream",
     "text": [
      "\b\b\b\b\b\b\b\b\b\b\b\b\b\b\b\b\b\b\b\b\b\b\b\b\b\b\b\b\b\b\b\b\b\b\b\b\b\b\b\b\b\b\b\b\b\b\b\b\b\b\b\b\b\b\r 2432/10000 [======>.......................] - ETA: 2s"
     ]
    },
    {
     "name": "stdout",
     "output_type": "stream",
     "text": [
      "\b\b\b\b\b\b\b\b\b\b\b\b\b\b\b\b\b\b\b\b\b\b\b\b\b\b\b\b\b\b\b\b\b\b\b\b\b\b\b\b\b\b\b\b\b\b\b\b\b\b\b\b\b\b\r 2720/10000 [=======>......................] - ETA: 2s"
     ]
    },
    {
     "name": "stdout",
     "output_type": "stream",
     "text": [
      "\b\b\b\b\b\b\b\b\b\b\b\b\b\b\b\b\b\b\b\b\b\b\b\b\b\b\b\b\b\b\b\b\b\b\b\b\b\b\b\b\b\b\b\b\b\b\b\b\b\b\b\b\b\b\r 2912/10000 [=======>......................] - ETA: 2s"
     ]
    },
    {
     "name": "stdout",
     "output_type": "stream",
     "text": [
      "\b\b\b\b\b\b\b\b\b\b\b\b\b\b\b\b\b\b\b\b\b\b\b\b\b\b\b\b\b\b\b\b\b\b\b\b\b\b\b\b\b\b\b\b\b\b\b\b\b\b\b\b\b\b\r 3200/10000 [========>.....................] - ETA: 1s"
     ]
    },
    {
     "name": "stdout",
     "output_type": "stream",
     "text": [
      "\b\b\b\b\b\b\b\b\b\b\b\b\b\b\b\b\b\b\b\b\b\b\b\b\b\b\b\b\b\b\b\b\b\b\b\b\b\b\b\b\b\b\b\b\b\b\b\b\b\b\b\b\b\b\r 3488/10000 [=========>....................] - ETA: 1s"
     ]
    },
    {
     "name": "stdout",
     "output_type": "stream",
     "text": [
      "\b\b\b\b\b\b\b\b\b\b\b\b\b\b\b\b\b\b\b\b\b\b\b\b\b\b\b\b\b\b\b\b\b\b\b\b\b\b\b\b\b\b\b\b\b\b\b\b\b\b\b\b\b\b\r 3744/10000 [==========>...................] - ETA: 1s"
     ]
    },
    {
     "name": "stdout",
     "output_type": "stream",
     "text": [
      "\b\b\b\b\b\b\b\b\b\b\b\b\b\b\b\b\b\b\b\b\b\b\b\b\b\b\b\b\b\b\b\b\b\b\b\b\b\b\b\b\b\b\b\b\b\b\b\b\b\b\b\b\b\b\r 4064/10000 [===========>..................] - ETA: 1s"
     ]
    },
    {
     "name": "stdout",
     "output_type": "stream",
     "text": [
      "\b\b\b\b\b\b\b\b\b\b\b\b\b\b\b\b\b\b\b\b\b\b\b\b\b\b\b\b\b\b\b\b\b\b\b\b\b\b\b\b\b\b\b\b\b\b\b\b\b\b\b\b\b\b\r 4352/10000 [============>.................] - ETA: 1s"
     ]
    },
    {
     "name": "stdout",
     "output_type": "stream",
     "text": [
      "\b\b\b\b\b\b\b\b\b\b\b\b\b\b\b\b\b\b\b\b\b\b\b\b\b\b\b\b\b\b\b\b\b\b\b\b\b\b\b\b\b\b\b\b\b\b\b\b\b\b\b\b\b\b\r 4672/10000 [=============>................] - ETA: 1s"
     ]
    },
    {
     "name": "stdout",
     "output_type": "stream",
     "text": [
      "\b\b\b\b\b\b\b\b\b\b\b\b\b\b\b\b\b\b\b\b\b\b\b\b\b\b\b\b\b\b\b\b\b\b\b\b\b\b\b\b\b\b\b\b\b\b\b\b\b\b\b\b\b\b\r 4960/10000 [=============>................] - ETA: 1s"
     ]
    },
    {
     "name": "stdout",
     "output_type": "stream",
     "text": [
      "\b\b\b\b\b\b\b\b\b\b\b\b\b\b\b\b\b\b\b\b\b\b\b\b\b\b\b\b\b\b\b\b\b\b\b\b\b\b\b\b\b\b\b\b\b\b\b\b\b\b\b\b\b\b\r 5248/10000 [==============>...............] - ETA: 1s"
     ]
    },
    {
     "name": "stdout",
     "output_type": "stream",
     "text": [
      "\b\b\b\b\b\b\b\b\b\b\b\b\b\b\b\b\b\b\b\b\b\b\b\b\b\b\b\b\b\b\b\b\b\b\b\b\b\b\b\b\b\b\b\b\b\b\b\b\b\b\b\b\b\b\r 5536/10000 [===============>..............] - ETA: 1s"
     ]
    },
    {
     "name": "stdout",
     "output_type": "stream",
     "text": [
      "\b\b\b\b\b\b\b\b\b\b\b\b\b\b\b\b\b\b\b\b\b\b\b\b\b\b\b\b\b\b\b\b\b\b\b\b\b\b\b\b\b\b\b\b\b\b\b\b\b\b\b\b\b\b\r 5856/10000 [================>.............] - ETA: 0s"
     ]
    },
    {
     "name": "stdout",
     "output_type": "stream",
     "text": [
      "\b\b\b\b\b\b\b\b\b\b\b\b\b\b\b\b\b\b\b\b\b\b\b\b\b\b\b\b\b\b\b\b\b\b\b\b\b\b\b\b\b\b\b\b\b\b\b\b\b\b\b\b\b\b\r 6112/10000 [=================>............] - ETA: 0s"
     ]
    },
    {
     "name": "stdout",
     "output_type": "stream",
     "text": [
      "\b\b\b\b\b\b\b\b\b\b\b\b\b\b\b\b\b\b\b\b\b\b\b\b\b\b\b\b\b\b\b\b\b\b\b\b\b\b\b\b\b\b\b\b\b\b\b\b\b\b\b\b\b\b\r 6400/10000 [==================>...........] - ETA: 0s"
     ]
    },
    {
     "name": "stdout",
     "output_type": "stream",
     "text": [
      "\b\b\b\b\b\b\b\b\b\b\b\b\b\b\b\b\b\b\b\b\b\b\b\b\b\b\b\b\b\b\b\b\b\b\b\b\b\b\b\b\b\b\b\b\b\b\b\b\b\b\b\b\b\b\r 6624/10000 [==================>...........] - ETA: 0s"
     ]
    },
    {
     "name": "stdout",
     "output_type": "stream",
     "text": [
      "\b\b\b\b\b\b\b\b\b\b\b\b\b\b\b\b\b\b\b\b\b\b\b\b\b\b\b\b\b\b\b\b\b\b\b\b\b\b\b\b\b\b\b\b\b\b\b\b\b\b\b\b\b\b\r 6944/10000 [===================>..........] - ETA: 0s"
     ]
    },
    {
     "name": "stdout",
     "output_type": "stream",
     "text": [
      "\b\b\b\b\b\b\b\b\b\b\b\b\b\b\b\b\b\b\b\b\b\b\b\b\b\b\b\b\b\b\b\b\b\b\b\b\b\b\b\b\b\b\b\b\b\b\b\b\b\b\b\b\b\b\r 7136/10000 [====================>.........] - ETA: 0s"
     ]
    },
    {
     "name": "stdout",
     "output_type": "stream",
     "text": [
      "\b\b\b\b\b\b\b\b\b\b\b\b\b\b\b\b\b\b\b\b\b\b\b\b\b\b\b\b\b\b\b\b\b\b\b\b\b\b\b\b\b\b\b\b\b\b\b\b\b\b\b\b\b\b\r 7456/10000 [=====================>........] - ETA: 0s"
     ]
    },
    {
     "name": "stdout",
     "output_type": "stream",
     "text": [
      "\b\b\b\b\b\b\b\b\b\b\b\b\b\b\b\b\b\b\b\b\b\b\b\b\b\b\b\b\b\b\b\b\b\b\b\b\b\b\b\b\b\b\b\b\b\b\b\b\b\b\b\b\b\b\r 7776/10000 [======================>.......] - ETA: 0s"
     ]
    },
    {
     "name": "stdout",
     "output_type": "stream",
     "text": [
      "\b\b\b\b\b\b\b\b\b\b\b\b\b\b\b\b\b\b\b\b\b\b\b\b\b\b\b\b\b\b\b\b\b\b\b\b\b\b\b\b\b\b\b\b\b\b\b\b\b\b\b\b\b\b\r 8096/10000 [=======================>......] - ETA: 0s"
     ]
    },
    {
     "name": "stdout",
     "output_type": "stream",
     "text": [
      "\b\b\b\b\b\b\b\b\b\b\b\b\b\b\b\b\b\b\b\b\b\b\b\b\b\b\b\b\b\b\b\b\b\b\b\b\b\b\b\b\b\b\b\b\b\b\b\b\b\b\b\b\b\b\r 8384/10000 [========================>.....] - ETA: 0s"
     ]
    },
    {
     "name": "stdout",
     "output_type": "stream",
     "text": [
      "\b\b\b\b\b\b\b\b\b\b\b\b\b\b\b\b\b\b\b\b\b\b\b\b\b\b\b\b\b\b\b\b\b\b\b\b\b\b\b\b\b\b\b\b\b\b\b\b\b\b\b\b\b\b\r 8736/10000 [=========================>....] - ETA: 0s"
     ]
    },
    {
     "name": "stdout",
     "output_type": "stream",
     "text": [
      "\b\b\b\b\b\b\b\b\b\b\b\b\b\b\b\b\b\b\b\b\b\b\b\b\b\b\b\b\b\b\b\b\b\b\b\b\b\b\b\b\b\b\b\b\b\b\b\b\b\b\b\b\b\b\r 9024/10000 [==========================>...] - ETA: 0s"
     ]
    },
    {
     "name": "stdout",
     "output_type": "stream",
     "text": [
      "\b\b\b\b\b\b\b\b\b\b\b\b\b\b\b\b\b\b\b\b\b\b\b\b\b\b\b\b\b\b\b\b\b\b\b\b\b\b\b\b\b\b\b\b\b\b\b\b\b\b\b\b\b\b\r 9280/10000 [==========================>...] - ETA: 0s"
     ]
    },
    {
     "name": "stdout",
     "output_type": "stream",
     "text": [
      "\b\b\b\b\b\b\b\b\b\b\b\b\b\b\b\b\b\b\b\b\b\b\b\b\b\b\b\b\b\b\b\b\b\b\b\b\b\b\b\b\b\b\b\b\b\b\b\b\b\b\b\b\b\b\r 9536/10000 [===========================>..] - ETA: 0s"
     ]
    },
    {
     "name": "stdout",
     "output_type": "stream",
     "text": [
      "\b\b\b\b\b\b\b\b\b\b\b\b\b\b\b\b\b\b\b\b\b\b\b\b\b\b\b\b\b\b\b\b\b\b\b\b\b\b\b\b\b\b\b\b\b\b\b\b\b\b\b\b\b\b\r 9792/10000 [============================>.] - ETA: 0s"
     ]
    },
    {
     "name": "stdout",
     "output_type": "stream",
     "text": [
      "Test loss: 1.30961988888\nTest accuracy: 0.594\n"
     ]
    }
   ],
   "source": [
    "\n",
    "# Score trained model.\n",
    "scores = model.evaluate(x_test, y_test, verbose=1)\n",
    "print('Test loss:', scores[0])\n",
    "print('Test accuracy:', scores[1])\n"
   ]
  },
  {
   "cell_type": "code",
   "execution_count": 82,
   "metadata": {},
   "outputs": [],
   "source": [
    "del scores"
   ]
  },
  {
   "cell_type": "code",
   "execution_count": 83,
   "metadata": {},
   "outputs": [],
   "source": [
    "def mutation_manager(data, indices):\n",
    "    cols = data.shape[1]\n",
    "        \n",
    "    for x in indices:\n",
    "        row_no = int(x/cols)\n",
    "        col_no = x % cols\n",
    "        data[row_no, col_no] = np.random.random()\n",
    "        \n",
    "    return data"
   ]
  },
  {
   "cell_type": "code",
   "execution_count": 94,
   "metadata": {},
   "outputs": [],
   "source": [
    "def roulette_select(population, fitnesses, num):\n",
    "    total_fitness = float(sum(fitnesses))\n",
    "    rel_fitness = [f/total_fitness for f in fitnesses]\n",
    "    # Generate probability intervals for each individual\n",
    "    probs = [sum(rel_fitness[:i+1]) for i in range(len(rel_fitness))]\n",
    "    # Draw new population\n",
    "    new_population = []\n",
    "    for n in range(num):\n",
    "        r = np.random.random()\n",
    "        for (i, individual) in enumerate(population):\n",
    "            if r <= probs[i]:\n",
    "                new_population.append((individual, fitnesses[i]))\n",
    "                break\n",
    "    return new_population"
   ]
  },
  {
   "cell_type": "code",
   "execution_count": 84,
   "metadata": {},
   "outputs": [],
   "source": [
    "def crossover_manager(genome1, genome2):\n",
    "    random_index_to_cut = int(np.random.random() * len(genome1))\n",
    "    new1 = list(genome1[:random_index_to_cut]) + list(genome2[random_index_to_cut:])\n",
    "    new2 = list(genome2[:random_index_to_cut]) + list(genome1[random_index_to_cut:])\n",
    "    \n",
    "    return np.asarray(new1), np.asarray(new2)"
   ]
  },
  {
   "cell_type": "code",
   "execution_count": 85,
   "metadata": {},
   "outputs": [],
   "source": [
    "def genetic_op(data, required_val, mutation_rate, crossover_rate):\n",
    "    # Crossover operation\n",
    "    no_of_crossovers = int(data.shape[0] * crossover_rate)\n",
    "    indices_to_crossover = np.random.choice(data.shape[0], no_of_crossovers, replace=False)\n",
    "    data_to_be_crossover = data[indices_to_crossover]\n",
    "    \n",
    "    for x in range(0, len(indices_to_crossover) - 1, 2):\n",
    "        genome1 = data_to_be_crossover[x]\n",
    "        genome2 = data_to_be_crossover[x+1]\n",
    "        ind1 = indices_to_crossover[x]\n",
    "        ind2 = indices_to_crossover[x+1]\n",
    "        new1, new2 = crossover_manager(genome1, genome2)\n",
    "        data[ind1] = new1\n",
    "        data[ind2] = new2\n",
    "    \n",
    "    # Now for the mutation operation\n",
    "    no_of_mutations = int(data.shape[0] * data.shape[1] * mutation_rate)\n",
    "    indices_to_mutate = np.random.choice(data.shape[0] * data.shape[1], no_of_mutations, replace=False)\n",
    "    data = mutation_manager(data, indices_to_mutate)\n",
    "    \n",
    "    # Finally fitness\n",
    "    y = data.reshape(data.shape[0], 32, 32, 3)\n",
    "    r = model.predict(y)\n",
    "    fitness = r[:, required_val]\n",
    "\n",
    "    return data, fitness"
   ]
  },
  {
   "cell_type": "code",
   "execution_count": 147,
   "metadata": {},
   "outputs": [],
   "source": [
    "num = []\n",
    "\n",
    "for x in range(10):\n",
    "    indices = np.argwhere(y_orig_train == x)[:, 0].reshape((-1,))\n",
    "    num.append(x_train[indices])\n",
    "\n",
    "num = np.asarray(num)"
   ]
  },
  {
   "cell_type": "code",
   "execution_count": 148,
   "metadata": {},
   "outputs": [
    {
     "data": {
      "image/png": "[encoded data removed]",
      "text/plain": [
       "<matplotlib.figure.Figure at 0x7fe73065f048>"
      ]
     },
     "metadata": {},
     "output_type": "display_data"
    }
   ],
   "source": [
    "test = num[0][12]\n",
    "\n",
    "# test = x_train[0]\n",
    "\n",
    "plt.imshow(test)\n",
    "plt.show()"
   ]
  },
  {
   "cell_type": "code",
   "execution_count": 144,
   "metadata": {},
   "outputs": [],
   "source": [
    "def add_noise(img, _):\n",
    "    random_noise = np.random.random((32, 32, 3)) * np.random.random((32, 32, 3)) * \\\n",
    "                   np.random.random((32, 32, 3)) * np.random.random((32, 32, 3)) \n",
    "    return np.clip(img + random_noise, 0, 1)"
   ]
  },
  {
   "cell_type": "code",
   "execution_count": 150,
   "metadata": {},
   "outputs": [
    {
     "name": "stdout",
     "output_type": "stream",
     "text": [
      "(10, 5000, 32, 32, 3)\n(5000, 32, 32, 3)\n"
     ]
    },
    {
     "name": "stdout",
     "output_type": "stream",
     "text": [
      "(5000, 32, 32, 3)\n"
     ]
    },
    {
     "name": "stdout",
     "output_type": "stream",
     "text": [
      "(5000, 32, 32, 3)\n"
     ]
    },
    {
     "name": "stdout",
     "output_type": "stream",
     "text": [
      "(5000, 32, 32, 3)\n"
     ]
    },
    {
     "name": "stdout",
     "output_type": "stream",
     "text": [
      "(5000, 32, 32, 3)\n"
     ]
    },
    {
     "name": "stdout",
     "output_type": "stream",
     "text": [
      "(5000, 32, 32, 3)\n"
     ]
    },
    {
     "name": "stdout",
     "output_type": "stream",
     "text": [
      "(5000, 32, 32, 3)\n"
     ]
    },
    {
     "name": "stdout",
     "output_type": "stream",
     "text": [
      "(5000, 32, 32, 3)\n"
     ]
    },
    {
     "name": "stdout",
     "output_type": "stream",
     "text": [
      "(5000, 32, 32, 3)\n"
     ]
    },
    {
     "name": "stdout",
     "output_type": "stream",
     "text": [
      "(5000, 32, 32, 3)\n"
     ]
    }
   ],
   "source": [
    "chosen_ones = []\n",
    "print(num.shape)\n",
    "for j in range(10):\n",
    "    numbers = num[j]\n",
    "    print(numbers.shape)\n",
    "    r = model.predict(numbers)\n",
    "    new = [numbers[i] for i in range(len(r)) if r[i][j] > .8]\n",
    "    new = np.array(new)\n",
    "    chosen_ones.append(new)\n",
    "    \n",
    "chosen_ones = np.array(chosen_ones)"
   ]
  },
  {
   "cell_type": "code",
   "execution_count": 151,
   "metadata": {},
   "outputs": [],
   "source": [
    "new_num = []\n",
    "\n",
    "for x in range(10):\n",
    "    numbers = chosen_ones[x]\n",
    "    final_image = np.apply_over_axes(add_noise, numbers, [0])\n",
    "    new_num.append(final_image)\n",
    "    # new_num.append(numbers)\n",
    "\n",
    "new_num = np.asarray(new_num)"
   ]
  },
  {
   "cell_type": "code",
   "execution_count": 152,
   "metadata": {
    "collapsed": false
   },
   "outputs": [],
   "source": [
    "final = [x[:20] for x in new_num]\n",
    "new_num = np.array(final)"
   ]
  },
  {
   "cell_type": "code",
   "execution_count": 154,
   "metadata": {},
   "outputs": [
    {
     "name": "stdout",
     "output_type": "stream",
     "text": [
      "[[ 0.24432808  0.03295448  0.10205141  0.08814015  0.06360687  0.05896232\n   0.0462504   0.03440733  0.26770195  0.06159704]]\n"
     ]
    }
   ],
   "source": [
    "temp = new_num[0][1]\n",
    "\n",
    "r = model.predict(temp.reshape(1, 32, 32, 3))\n",
    "\n",
    "print(r)"
   ]
  },
  {
   "cell_type": "code",
   "execution_count": 167,
   "metadata": {
    "collapsed": true
   },
   "outputs": [
    {
     "name": "stdout",
     "output_type": "stream",
     "text": [
      "Now evaluating for number 0\nMax fitness for gen 0 is 0.09553127735853195\nMax fitness for gen 1 is 0.09585779905319214\n"
     ]
    },
    {
     "name": "stdout",
     "output_type": "stream",
     "text": [
      "Max fitness for gen 2 is 0.09731978923082352\nMax fitness for gen 3 is 0.11347579956054688\n"
     ]
    },
    {
     "name": "stdout",
     "output_type": "stream",
     "text": [
      "Max fitness for gen 4 is 0.1144934669137001\n"
     ]
    },
    {
     "name": "stdout",
     "output_type": "stream",
     "text": [
      "Max fitness for gen 5 is 0.1265535056591034\nMax fitness for gen 6 is 0.13456952571868896\n"
     ]
    },
    {
     "name": "stdout",
     "output_type": "stream",
     "text": [
      "Max fitness for gen 7 is 0.1398446410894394\nMax fitness for gen 8 is 0.14374694228172302\nMax fitness for gen 9 is 0.15230780839920044\n"
     ]
    },
    {
     "name": "stdout",
     "output_type": "stream",
     "text": [
      "Max fitness for gen 10 is 0.15890736877918243\nMax fitness for gen 11 is 0.17577940225601196\n"
     ]
    },
    {
     "name": "stdout",
     "output_type": "stream",
     "text": [
      "Max fitness for gen 12 is 0.17830486595630646\n"
     ]
    },
    {
     "name": "stdout",
     "output_type": "stream",
     "text": [
      "Max fitness for gen 13 is 0.2320164144039154\n"
     ]
    },
    {
     "name": "stdout",
     "output_type": "stream",
     "text": [
      "Max fitness for gen 14 is 0.23898403346538544\nMax fitness for gen 15 is 0.24156822264194489\n"
     ]
    },
    {
     "name": "stdout",
     "output_type": "stream",
     "text": [
      "Max fitness for gen 16 is 0.2671043276786804\nMax fitness for gen 17 is 0.2828696370124817\n"
     ]
    },
    {
     "name": "stdout",
     "output_type": "stream",
     "text": [
      "Max fitness for gen 18 is 0.2879730761051178\nMax fitness for gen 19 is 0.302890807390213\n"
     ]
    },
    {
     "name": "stdout",
     "output_type": "stream",
     "text": [
      "Max fitness for gen 20 is 0.33524835109710693\nMax fitness for gen 21 is 0.34401461482048035\nMax fitness for gen 22 is 0.3547021150588989\n"
     ]
    },
    {
     "name": "stdout",
     "output_type": "stream",
     "text": [
      "Max fitness for gen 23 is 0.35572993755340576\nMax fitness for gen 24 is 0.36746907234191895\n"
     ]
    },
    {
     "name": "stdout",
     "output_type": "stream",
     "text": [
      "Max fitness for gen 25 is 0.4051617383956909\n"
     ]
    },
    {
     "name": "stdout",
     "output_type": "stream",
     "text": [
      "Max fitness for gen 26 is 0.4199730157852173\n"
     ]
    },
    {
     "name": "stdout",
     "output_type": "stream",
     "text": [
      "Max fitness for gen 27 is 0.45052698254585266\nMax fitness for gen 28 is 0.48233386874198914\n"
     ]
    },
    {
     "name": "stdout",
     "output_type": "stream",
     "text": [
      "Max fitness for gen 29 is 0.5283153653144836\n"
     ]
    },
    {
     "name": "stdout",
     "output_type": "stream",
     "text": [
      "Max fitness for gen 30 is 0.5412775278091431\n"
     ]
    },
    {
     "name": "stdout",
     "output_type": "stream",
     "text": [
      "Max fitness for gen 31 is 0.57487952709198\nMax fitness for gen 32 is 0.6941332817077637\n"
     ]
    },
    {
     "name": "stdout",
     "output_type": "stream",
     "text": [
      "Max fitness for gen 33 is 0.7156596779823303\n"
     ]
    },
    {
     "name": "stdout",
     "output_type": "stream",
     "text": [
      "Max fitness for gen 34 is 0.7440512776374817\nMax fitness for gen 35 is 0.7729272246360779\n"
     ]
    },
    {
     "name": "stdout",
     "output_type": "stream",
     "text": [
      "Max fitness for gen 36 is 0.8025392889976501\nMax fitness for gen 37 is 0.8090164065361023\n"
     ]
    },
    {
     "name": "stdout",
     "output_type": "stream",
     "text": [
      "Max fitness for gen 38 is 0.8262796998023987\n"
     ]
    },
    {
     "name": "stdout",
     "output_type": "stream",
     "text": [
      "Max fitness for gen 39 is 0.8297232389450073\n"
     ]
    },
    {
     "name": "stdout",
     "output_type": "stream",
     "text": [
      "Max fitness for gen 40 is 0.8674812912940979\n"
     ]
    },
    {
     "name": "stdout",
     "output_type": "stream",
     "text": [
      "Max fitness for gen 41 is 0.8681473135948181\nMax fitness for gen 42 is 0.8806465864181519\n"
     ]
    },
    {
     "name": "stdout",
     "output_type": "stream",
     "text": [
      "Max fitness for gen 43 is 0.8851853013038635\n"
     ]
    },
    {
     "name": "stdout",
     "output_type": "stream",
     "text": [
      "Max fitness for gen 44 is 0.8880783915519714\n"
     ]
    },
    {
     "name": "stdout",
     "output_type": "stream",
     "text": [
      "Max fitness for gen 45 is 0.905670702457428\n"
     ]
    },
    {
     "name": "stdout",
     "output_type": "stream",
     "text": [
      "Max fitness for gen 46 is 0.906091034412384\n"
     ]
    },
    {
     "name": "stdout",
     "output_type": "stream",
     "text": [
      "Max fitness for gen 47 is 0.9109829664230347\n"
     ]
    },
    {
     "name": "stdout",
     "output_type": "stream",
     "text": [
      "Max fitness for gen 48 is 0.9119731187820435\nMax fitness for gen 49 is 0.9356136322021484\n"
     ]
    },
    {
     "name": "stdout",
     "output_type": "stream",
     "text": [
      "Max fitness for gen 50 is 0.9660277366638184\nAdding the image to the new array...\nNow evaluating for number 1\nMax fitness for gen 0 is 0.4382953345775604\n"
     ]
    },
    {
     "name": "stdout",
     "output_type": "stream",
     "text": [
      "Max fitness for gen 1 is 0.4939917325973511\n"
     ]
    },
    {
     "name": "stdout",
     "output_type": "stream",
     "text": [
      "Max fitness for gen 2 is 0.5391116142272949\n"
     ]
    },
    {
     "name": "stdout",
     "output_type": "stream",
     "text": [
      "Max fitness for gen 3 is 0.6683709621429443\n"
     ]
    },
    {
     "name": "stdout",
     "output_type": "stream",
     "text": [
      "Max fitness for gen 4 is 0.7853267788887024\n"
     ]
    },
    {
     "name": "stdout",
     "output_type": "stream",
     "text": [
      "Max fitness for gen 5 is 0.8317369818687439\n"
     ]
    },
    {
     "name": "stdout",
     "output_type": "stream",
     "text": [
      "Max fitness for gen 6 is 0.9152241945266724\nMax fitness for gen 7 is 0.9219631552696228\n"
     ]
    },
    {
     "name": "stdout",
     "output_type": "stream",
     "text": [
      "Max fitness for gen 8 is 0.9633616209030151\nAdding the image to the new array...\nNow evaluating for number 2\nMax fitness for gen 0 is 0.24801422655582428\nMax fitness for gen 1 is 0.2890705466270447\nMax fitness for gen 2 is 0.35095882415771484\n"
     ]
    },
    {
     "name": "stdout",
     "output_type": "stream",
     "text": [
      "Max fitness for gen 3 is 0.36589357256889343\nMax fitness for gen 4 is 0.37992796301841736\nMax fitness for gen 5 is 0.4669713079929352\n"
     ]
    },
    {
     "name": "stdout",
     "output_type": "stream",
     "text": [
      "Max fitness for gen 6 is 0.47465166449546814\nMax fitness for gen 7 is 0.5319141745567322\n"
     ]
    },
    {
     "name": "stdout",
     "output_type": "stream",
     "text": [
      "Max fitness for gen 8 is 0.6078200340270996\nMax fitness for gen 9 is 0.6204437017440796\n"
     ]
    },
    {
     "name": "stdout",
     "output_type": "stream",
     "text": [
      "Max fitness for gen 10 is 0.7322074174880981\n"
     ]
    },
    {
     "name": "stdout",
     "output_type": "stream",
     "text": [
      "Max fitness for gen 11 is 0.7639941573143005\nMax fitness for gen 12 is 0.8132648468017578\n"
     ]
    },
    {
     "name": "stdout",
     "output_type": "stream",
     "text": [
      "Max fitness for gen 13 is 0.8315544128417969\nMax fitness for gen 14 is 0.8794388175010681\n"
     ]
    },
    {
     "name": "stdout",
     "output_type": "stream",
     "text": [
      "Max fitness for gen 15 is 0.8801272511482239\n"
     ]
    },
    {
     "name": "stdout",
     "output_type": "stream",
     "text": [
      "Max fitness for gen 16 is 0.9137820601463318\n"
     ]
    },
    {
     "name": "stdout",
     "output_type": "stream",
     "text": [
      "Max fitness for gen 17 is 0.9329164028167725\nMax fitness for gen 18 is 0.9646196365356445\nAdding the image to the new array...\nNow evaluating for number 3\nMax fitness for gen 0 is 0.22397668659687042\nMax fitness for gen 1 is 0.2444366216659546\n"
     ]
    },
    {
     "name": "stdout",
     "output_type": "stream",
     "text": [
      "Max fitness for gen 2 is 0.2658228874206543\nMax fitness for gen 3 is 0.27508774399757385\nMax fitness for gen 4 is 0.3216889500617981\n"
     ]
    },
    {
     "name": "stdout",
     "output_type": "stream",
     "text": [
      "Max fitness for gen 5 is 0.32221996784210205\n"
     ]
    },
    {
     "name": "stdout",
     "output_type": "stream",
     "text": [
      "Max fitness for gen 6 is 0.33532336354255676\n"
     ]
    },
    {
     "name": "stdout",
     "output_type": "stream",
     "text": [
      "Max fitness for gen 7 is 0.34922415018081665\n"
     ]
    },
    {
     "name": "stdout",
     "output_type": "stream",
     "text": [
      "Max fitness for gen 8 is 0.37513548135757446\n"
     ]
    },
    {
     "name": "stdout",
     "output_type": "stream",
     "text": [
      "Max fitness for gen 9 is 0.3815494477748871\n"
     ]
    },
    {
     "name": "stdout",
     "output_type": "stream",
     "text": [
      "Max fitness for gen 10 is 0.4017975628376007\nMax fitness for gen 11 is 0.41147857904434204\n"
     ]
    },
    {
     "name": "stdout",
     "output_type": "stream",
     "text": [
      "Max fitness for gen 12 is 0.4412575662136078\n"
     ]
    },
    {
     "name": "stdout",
     "output_type": "stream",
     "text": [
      "Max fitness for gen 13 is 0.46875810623168945\n"
     ]
    },
    {
     "name": "stdout",
     "output_type": "stream",
     "text": [
      "Max fitness for gen 14 is 0.46993058919906616\n"
     ]
    },
    {
     "name": "stdout",
     "output_type": "stream",
     "text": [
      "Max fitness for gen 15 is 0.49110984802246094\n"
     ]
    },
    {
     "name": "stdout",
     "output_type": "stream",
     "text": [
      "Max fitness for gen 16 is 0.5430654287338257\n"
     ]
    },
    {
     "name": "stdout",
     "output_type": "stream",
     "text": [
      "Max fitness for gen 17 is 0.5741002559661865\nMax fitness for gen 18 is 0.6100030541419983\n"
     ]
    },
    {
     "name": "stdout",
     "output_type": "stream",
     "text": [
      "Max fitness for gen 19 is 0.6560126543045044\n"
     ]
    },
    {
     "name": "stdout",
     "output_type": "stream",
     "text": [
      "Max fitness for gen 20 is 0.6990986466407776\n"
     ]
    },
    {
     "name": "stdout",
     "output_type": "stream",
     "text": [
      "Max fitness for gen 21 is 0.7279441952705383\n"
     ]
    },
    {
     "name": "stdout",
     "output_type": "stream",
     "text": [
      "Max fitness for gen 22 is 0.7752309441566467\n"
     ]
    },
    {
     "name": "stdout",
     "output_type": "stream",
     "text": [
      "Max fitness for gen 23 is 0.8183188438415527\n"
     ]
    },
    {
     "name": "stdout",
     "output_type": "stream",
     "text": [
      "Max fitness for gen 24 is 0.8239318132400513\n"
     ]
    },
    {
     "name": "stdout",
     "output_type": "stream",
     "text": [
      "Max fitness for gen 25 is 0.8344479203224182\n"
     ]
    },
    {
     "name": "stdout",
     "output_type": "stream",
     "text": [
      "Max fitness for gen 26 is 0.864859938621521\n"
     ]
    },
    {
     "name": "stdout",
     "output_type": "stream",
     "text": [
      "Max fitness for gen 27 is 0.8771511912345886\n"
     ]
    },
    {
     "name": "stdout",
     "output_type": "stream",
     "text": [
      "Max fitness for gen 28 is 0.8870730400085449\nMax fitness for gen 29 is 0.905711829662323\n"
     ]
    },
    {
     "name": "stdout",
     "output_type": "stream",
     "text": [
      "Max fitness for gen 30 is 0.9065424203872681\n"
     ]
    },
    {
     "name": "stdout",
     "output_type": "stream",
     "text": [
      "Max fitness for gen 31 is 0.9074221849441528\n"
     ]
    },
    {
     "name": "stdout",
     "output_type": "stream",
     "text": [
      "Max fitness for gen 32 is 0.9112063050270081\n"
     ]
    },
    {
     "name": "stdout",
     "output_type": "stream",
     "text": [
      "Max fitness for gen 33 is 0.9224738478660583\n"
     ]
    },
    {
     "name": "stdout",
     "output_type": "stream",
     "text": [
      "Max fitness for gen 34 is 0.9245070219039917\n"
     ]
    },
    {
     "name": "stdout",
     "output_type": "stream",
     "text": [
      "Max fitness for gen 35 is 0.9374556541442871\n"
     ]
    },
    {
     "name": "stdout",
     "output_type": "stream",
     "text": [
      "Max fitness for gen 36 is 0.9396751523017883\n"
     ]
    },
    {
     "name": "stdout",
     "output_type": "stream",
     "text": [
      "Max fitness for gen 37 is 0.9430752396583557\n"
     ]
    },
    {
     "name": "stdout",
     "output_type": "stream",
     "text": [
      "Max fitness for gen 38 is 0.9542174935340881\nAdding the image to the new array...\nNow evaluating for number 4\nMax fitness for gen 0 is 0.26483994722366333\nMax fitness for gen 1 is 0.27657246589660645\nMax fitness for gen 2 is 0.27799421548843384\nMax fitness for gen 3 is 0.31483933329582214\n"
     ]
    },
    {
     "name": "stdout",
     "output_type": "stream",
     "text": [
      "Max fitness for gen 4 is 0.36844855546951294\nMax fitness for gen 5 is 0.37123608589172363\nMax fitness for gen 6 is 0.4107326567173004\nMax fitness for gen 7 is 0.5582285523414612\n"
     ]
    },
    {
     "name": "stdout",
     "output_type": "stream",
     "text": [
      "Max fitness for gen 8 is 0.6931440830230713\nMax fitness for gen 9 is 0.7205516695976257\nMax fitness for gen 10 is 0.7683659791946411\nMax fitness for gen 11 is 0.8535358309745789\n"
     ]
    },
    {
     "name": "stdout",
     "output_type": "stream",
     "text": [
      "Max fitness for gen 12 is 0.8845621347427368\nMax fitness for gen 13 is 0.9363904595375061\nMax fitness for gen 14 is 0.9559621214866638\nAdding the image to the new array...\nNow evaluating for number 5\n"
     ]
    },
    {
     "name": "stdout",
     "output_type": "stream",
     "text": [
      "Max fitness for gen 0 is 0.2691587209701538\nMax fitness for gen 1 is 0.3120196759700775\n"
     ]
    },
    {
     "name": "stdout",
     "output_type": "stream",
     "text": [
      "Max fitness for gen 2 is 0.33821702003479004\n"
     ]
    },
    {
     "name": "stdout",
     "output_type": "stream",
     "text": [
      "Max fitness for gen 3 is 0.3895871937274933\nMax fitness for gen 4 is 0.39855438470840454\n"
     ]
    },
    {
     "name": "stdout",
     "output_type": "stream",
     "text": [
      "Max fitness for gen 5 is 0.40684378147125244\n"
     ]
    },
    {
     "name": "stdout",
     "output_type": "stream",
     "text": [
      "Max fitness for gen 6 is 0.4914434850215912\n"
     ]
    },
    {
     "name": "stdout",
     "output_type": "stream",
     "text": [
      "Max fitness for gen 7 is 0.5229268670082092\n"
     ]
    },
    {
     "name": "stdout",
     "output_type": "stream",
     "text": [
      "Max fitness for gen 8 is 0.5647287964820862\n"
     ]
    },
    {
     "name": "stdout",
     "output_type": "stream",
     "text": [
      "Max fitness for gen 9 is 0.7209550738334656\n"
     ]
    },
    {
     "name": "stdout",
     "output_type": "stream",
     "text": [
      "Max fitness for gen 10 is 0.7935147881507874\n"
     ]
    },
    {
     "name": "stdout",
     "output_type": "stream",
     "text": [
      "Max fitness for gen 11 is 0.8104555606842041\n"
     ]
    },
    {
     "name": "stdout",
     "output_type": "stream",
     "text": [
      "Max fitness for gen 12 is 0.8171010613441467\nMax fitness for gen 13 is 0.8611699342727661\n"
     ]
    },
    {
     "name": "stdout",
     "output_type": "stream",
     "text": [
      "Max fitness for gen 14 is 0.8859469294548035\nMax fitness for gen 15 is 0.8962286710739136\n"
     ]
    },
    {
     "name": "stdout",
     "output_type": "stream",
     "text": [
      "Max fitness for gen 16 is 0.8981115818023682\n"
     ]
    },
    {
     "name": "stdout",
     "output_type": "stream",
     "text": [
      "Max fitness for gen 17 is 0.9176568984985352\n"
     ]
    },
    {
     "name": "stdout",
     "output_type": "stream",
     "text": [
      "Max fitness for gen 18 is 0.9377330541610718\n"
     ]
    },
    {
     "name": "stdout",
     "output_type": "stream",
     "text": [
      "Max fitness for gen 19 is 0.94276362657547\nMax fitness for gen 20 is 0.9751132726669312\nAdding the image to the new array...\nNow evaluating for number 6\nMax fitness for gen 0 is 0.2644801139831543\n"
     ]
    },
    {
     "name": "stdout",
     "output_type": "stream",
     "text": [
      "Max fitness for gen 1 is 0.2734582722187042\n"
     ]
    },
    {
     "name": "stdout",
     "output_type": "stream",
     "text": [
      "Max fitness for gen 2 is 0.2844458818435669\n"
     ]
    },
    {
     "name": "stdout",
     "output_type": "stream",
     "text": [
      "Max fitness for gen 3 is 0.3374009132385254\n"
     ]
    },
    {
     "name": "stdout",
     "output_type": "stream",
     "text": [
      "Max fitness for gen 4 is 0.35346686840057373\nMax fitness for gen 5 is 0.40173885226249695\n"
     ]
    },
    {
     "name": "stdout",
     "output_type": "stream",
     "text": [
      "Max fitness for gen 6 is 0.4766653776168823\n"
     ]
    },
    {
     "name": "stdout",
     "output_type": "stream",
     "text": [
      "Max fitness for gen 7 is 0.5031111836433411\n"
     ]
    },
    {
     "name": "stdout",
     "output_type": "stream",
     "text": [
      "Max fitness for gen 8 is 0.513664960861206\n"
     ]
    },
    {
     "name": "stdout",
     "output_type": "stream",
     "text": [
      "Max fitness for gen 9 is 0.5832973718643188\n"
     ]
    },
    {
     "name": "stdout",
     "output_type": "stream",
     "text": [
      "Max fitness for gen 10 is 0.6271947622299194\n"
     ]
    },
    {
     "name": "stdout",
     "output_type": "stream",
     "text": [
      "Max fitness for gen 11 is 0.6999940276145935\n"
     ]
    },
    {
     "name": "stdout",
     "output_type": "stream",
     "text": [
      "Max fitness for gen 12 is 0.7084729671478271\n"
     ]
    },
    {
     "name": "stdout",
     "output_type": "stream",
     "text": [
      "Max fitness for gen 13 is 0.7354756593704224\n"
     ]
    },
    {
     "name": "stdout",
     "output_type": "stream",
     "text": [
      "Max fitness for gen 14 is 0.7462973594665527\n"
     ]
    },
    {
     "name": "stdout",
     "output_type": "stream",
     "text": [
      "Max fitness for gen 15 is 0.7647659182548523\n"
     ]
    },
    {
     "name": "stdout",
     "output_type": "stream",
     "text": [
      "Max fitness for gen 16 is 0.8234789371490479\n"
     ]
    },
    {
     "name": "stdout",
     "output_type": "stream",
     "text": [
      "Max fitness for gen 17 is 0.8579309582710266\n"
     ]
    },
    {
     "name": "stdout",
     "output_type": "stream",
     "text": [
      "Max fitness for gen 18 is 0.8764989972114563\n"
     ]
    },
    {
     "name": "stdout",
     "output_type": "stream",
     "text": [
      "Max fitness for gen 19 is 0.923072338104248\nMax fitness for gen 20 is 0.9233757257461548\nMax fitness for gen 21 is 0.9274295568466187\n"
     ]
    },
    {
     "name": "stdout",
     "output_type": "stream",
     "text": [
      "Max fitness for gen 22 is 0.9350653886795044\n"
     ]
    },
    {
     "name": "stdout",
     "output_type": "stream",
     "text": [
      "Max fitness for gen 23 is 0.947954535484314\n"
     ]
    },
    {
     "name": "stdout",
     "output_type": "stream",
     "text": [
      "Max fitness for gen 24 is 0.9564897418022156\nAdding the image to the new array...\nNow evaluating for number 7\nMax fitness for gen 0 is 0.1224476769566536\nMax fitness for gen 1 is 0.165429949760437\n"
     ]
    },
    {
     "name": "stdout",
     "output_type": "stream",
     "text": [
      "Max fitness for gen 2 is 0.18924497067928314\n"
     ]
    },
    {
     "name": "stdout",
     "output_type": "stream",
     "text": [
      "Max fitness for gen 3 is 0.2405393272638321\n"
     ]
    },
    {
     "name": "stdout",
     "output_type": "stream",
     "text": [
      "Max fitness for gen 4 is 0.24902908504009247\nMax fitness for gen 5 is 0.26698750257492065\n"
     ]
    },
    {
     "name": "stdout",
     "output_type": "stream",
     "text": [
      "Max fitness for gen 6 is 0.28237953782081604\n"
     ]
    },
    {
     "name": "stdout",
     "output_type": "stream",
     "text": [
      "Max fitness for gen 7 is 0.32249152660369873\n"
     ]
    },
    {
     "name": "stdout",
     "output_type": "stream",
     "text": [
      "Max fitness for gen 8 is 0.3607344627380371\n"
     ]
    },
    {
     "name": "stdout",
     "output_type": "stream",
     "text": [
      "Max fitness for gen 9 is 0.36105668544769287\n"
     ]
    },
    {
     "name": "stdout",
     "output_type": "stream",
     "text": [
      "Max fitness for gen 10 is 0.3837425410747528\n"
     ]
    },
    {
     "name": "stdout",
     "output_type": "stream",
     "text": [
      "Max fitness for gen 11 is 0.44608524441719055\n"
     ]
    },
    {
     "name": "stdout",
     "output_type": "stream",
     "text": [
      "Max fitness for gen 12 is 0.4606209695339203\n"
     ]
    },
    {
     "name": "stdout",
     "output_type": "stream",
     "text": [
      "Max fitness for gen 13 is 0.46935608983039856\n"
     ]
    },
    {
     "name": "stdout",
     "output_type": "stream",
     "text": [
      "Max fitness for gen 14 is 0.49259960651397705\n"
     ]
    },
    {
     "name": "stdout",
     "output_type": "stream",
     "text": [
      "Max fitness for gen 15 is 0.5286782383918762\n"
     ]
    },
    {
     "name": "stdout",
     "output_type": "stream",
     "text": [
      "Max fitness for gen 16 is 0.6155179142951965\n"
     ]
    },
    {
     "name": "stdout",
     "output_type": "stream",
     "text": [
      "Max fitness for gen 17 is 0.6339731812477112\n"
     ]
    },
    {
     "name": "stdout",
     "output_type": "stream",
     "text": [
      "Max fitness for gen 18 is 0.640956699848175\n"
     ]
    },
    {
     "name": "stdout",
     "output_type": "stream",
     "text": [
      "Max fitness for gen 19 is 0.7222341299057007\n"
     ]
    },
    {
     "name": "stdout",
     "output_type": "stream",
     "text": [
      "Max fitness for gen 20 is 0.7571084499359131\n"
     ]
    },
    {
     "name": "stdout",
     "output_type": "stream",
     "text": [
      "Max fitness for gen 21 is 0.7726466059684753\n"
     ]
    },
    {
     "name": "stdout",
     "output_type": "stream",
     "text": [
      "Max fitness for gen 22 is 0.8684729337692261\n"
     ]
    },
    {
     "name": "stdout",
     "output_type": "stream",
     "text": [
      "Max fitness for gen 23 is 0.8813194036483765\n"
     ]
    },
    {
     "name": "stdout",
     "output_type": "stream",
     "text": [
      "Max fitness for gen 24 is 0.9004989862442017\nMax fitness for gen 25 is 0.903427004814148\n"
     ]
    },
    {
     "name": "stdout",
     "output_type": "stream",
     "text": [
      "Max fitness for gen 26 is 0.9150712490081787\n"
     ]
    },
    {
     "name": "stdout",
     "output_type": "stream",
     "text": [
      "Max fitness for gen 27 is 0.9381160140037537\n"
     ]
    },
    {
     "name": "stdout",
     "output_type": "stream",
     "text": [
      "Max fitness for gen 28 is 0.9447845816612244\n"
     ]
    },
    {
     "name": "stdout",
     "output_type": "stream",
     "text": [
      "Max fitness for gen 29 is 0.9460083842277527\n"
     ]
    },
    {
     "name": "stdout",
     "output_type": "stream",
     "text": [
      "Max fitness for gen 30 is 0.9491543173789978\n"
     ]
    },
    {
     "name": "stdout",
     "output_type": "stream",
     "text": [
      "Max fitness for gen 31 is 0.9540125727653503\nAdding the image to the new array...\nNow evaluating for number 8\nMax fitness for gen 0 is 0.19324085116386414\n"
     ]
    },
    {
     "name": "stdout",
     "output_type": "stream",
     "text": [
      "Max fitness for gen 1 is 0.19756264984607697\n"
     ]
    },
    {
     "name": "stdout",
     "output_type": "stream",
     "text": [
      "Max fitness for gen 2 is 0.2010759711265564\nMax fitness for gen 3 is 0.20523716509342194\n"
     ]
    },
    {
     "name": "stdout",
     "output_type": "stream",
     "text": [
      "Max fitness for gen 4 is 0.2236073911190033\n"
     ]
    },
    {
     "name": "stdout",
     "output_type": "stream",
     "text": [
      "Max fitness for gen 5 is 0.23822033405303955\nMax fitness for gen 6 is 0.27503469586372375\n"
     ]
    },
    {
     "name": "stdout",
     "output_type": "stream",
     "text": [
      "Max fitness for gen 7 is 0.2822360396385193\n"
     ]
    },
    {
     "name": "stdout",
     "output_type": "stream",
     "text": [
      "Max fitness for gen 8 is 0.2877945601940155\n"
     ]
    },
    {
     "name": "stdout",
     "output_type": "stream",
     "text": [
      "Max fitness for gen 9 is 0.30034345388412476\n"
     ]
    },
    {
     "name": "stdout",
     "output_type": "stream",
     "text": [
      "Max fitness for gen 10 is 0.3561284840106964\n"
     ]
    },
    {
     "name": "stdout",
     "output_type": "stream",
     "text": [
      "Max fitness for gen 11 is 0.3927507698535919\n"
     ]
    },
    {
     "name": "stdout",
     "output_type": "stream",
     "text": [
      "Max fitness for gen 12 is 0.3979353606700897\n"
     ]
    },
    {
     "name": "stdout",
     "output_type": "stream",
     "text": [
      "Max fitness for gen 13 is 0.4007033705711365\nMax fitness for gen 14 is 0.41413265466690063\n"
     ]
    },
    {
     "name": "stdout",
     "output_type": "stream",
     "text": [
      "Max fitness for gen 15 is 0.42169278860092163\n"
     ]
    },
    {
     "name": "stdout",
     "output_type": "stream",
     "text": [
      "Max fitness for gen 16 is 0.4531347453594208\n"
     ]
    },
    {
     "name": "stdout",
     "output_type": "stream",
     "text": [
      "Max fitness for gen 17 is 0.4566119909286499\n"
     ]
    },
    {
     "name": "stdout",
     "output_type": "stream",
     "text": [
      "Max fitness for gen 18 is 0.4958569407463074\n"
     ]
    },
    {
     "name": "stdout",
     "output_type": "stream",
     "text": [
      "Max fitness for gen 19 is 0.507523238658905\n"
     ]
    },
    {
     "name": "stdout",
     "output_type": "stream",
     "text": [
      "Max fitness for gen 20 is 0.5173686742782593\n"
     ]
    },
    {
     "name": "stdout",
     "output_type": "stream",
     "text": [
      "Max fitness for gen 21 is 0.5379905104637146\n"
     ]
    },
    {
     "name": "stdout",
     "output_type": "stream",
     "text": [
      "Max fitness for gen 22 is 0.5852771997451782\n"
     ]
    },
    {
     "name": "stdout",
     "output_type": "stream",
     "text": [
      "Max fitness for gen 23 is 0.606162965297699\n"
     ]
    },
    {
     "name": "stdout",
     "output_type": "stream",
     "text": [
      "Max fitness for gen 24 is 0.6478537917137146\n"
     ]
    },
    {
     "name": "stdout",
     "output_type": "stream",
     "text": [
      "Max fitness for gen 25 is 0.6487009525299072\nMax fitness for gen 26 is 0.6628208756446838\n"
     ]
    },
    {
     "name": "stdout",
     "output_type": "stream",
     "text": [
      "Max fitness for gen 27 is 0.6640991568565369\n"
     ]
    },
    {
     "name": "stdout",
     "output_type": "stream",
     "text": [
      "Max fitness for gen 28 is 0.674658477306366\n"
     ]
    },
    {
     "name": "stdout",
     "output_type": "stream",
     "text": [
      "Max fitness for gen 29 is 0.7601253986358643\n"
     ]
    },
    {
     "name": "stdout",
     "output_type": "stream",
     "text": [
      "Max fitness for gen 30 is 0.82181715965271\n"
     ]
    },
    {
     "name": "stdout",
     "output_type": "stream",
     "text": [
      "Max fitness for gen 31 is 0.8228360414505005\n"
     ]
    },
    {
     "name": "stdout",
     "output_type": "stream",
     "text": [
      "Max fitness for gen 32 is 0.8291134238243103\n"
     ]
    },
    {
     "name": "stdout",
     "output_type": "stream",
     "text": [
      "Max fitness for gen 33 is 0.8443704843521118\n"
     ]
    },
    {
     "name": "stdout",
     "output_type": "stream",
     "text": [
      "Max fitness for gen 34 is 0.8601623773574829\n"
     ]
    },
    {
     "name": "stdout",
     "output_type": "stream",
     "text": [
      "Max fitness for gen 35 is 0.950876772403717\nAdding the image to the new array...\nNow evaluating for number 9\nMax fitness for gen 0 is 0.33405959606170654\nMax fitness for gen 1 is 0.44342702627182007\n"
     ]
    },
    {
     "name": "stdout",
     "output_type": "stream",
     "text": [
      "Max fitness for gen 2 is 0.48407435417175293\nMax fitness for gen 3 is 0.5102646350860596\n"
     ]
    },
    {
     "name": "stdout",
     "output_type": "stream",
     "text": [
      "Max fitness for gen 4 is 0.5378882884979248\n"
     ]
    },
    {
     "name": "stdout",
     "output_type": "stream",
     "text": [
      "Max fitness for gen 5 is 0.5641129016876221\nMax fitness for gen 6 is 0.6303737759590149\n"
     ]
    },
    {
     "name": "stdout",
     "output_type": "stream",
     "text": [
      "Max fitness for gen 7 is 0.6788696646690369\nMax fitness for gen 8 is 0.7154685258865356\n"
     ]
    },
    {
     "name": "stdout",
     "output_type": "stream",
     "text": [
      "Max fitness for gen 9 is 0.7582431435585022\n"
     ]
    },
    {
     "name": "stdout",
     "output_type": "stream",
     "text": [
      "Max fitness for gen 10 is 0.818179190158844\nMax fitness for gen 11 is 0.8397210836410522\n"
     ]
    },
    {
     "name": "stdout",
     "output_type": "stream",
     "text": [
      "Max fitness for gen 12 is 0.8695314526557922\n"
     ]
    },
    {
     "name": "stdout",
     "output_type": "stream",
     "text": [
      "Max fitness for gen 13 is 0.9424825310707092\nMax fitness for gen 14 is 0.9679608345031738\nAdding the image to the new array...\n"
     ]
    }
   ],
   "source": [
    "init_crossover_rate = 0.05\n",
    "init_mutation_rate = 0.1\n",
    "population_size = 100\n",
    "generations = 200\n",
    "\n",
    "promotion_rate = 0.1\n",
    "multiplier = int(1 / promotion_rate)\n",
    "\n",
    "fit_num = []\n",
    "\n",
    "# Now for each number we have to create noisy initial population.\n",
    "try:\n",
    "    for numb in range(10):\n",
    "        rates_reduce = False\n",
    "        mutation_rate = init_mutation_rate\n",
    "        crossover_rate = init_crossover_rate\n",
    "        required_val = numb\n",
    "        print(\"Now evaluating for number\", required_val)\n",
    "        initial_popl = new_num[numb].reshape(\n",
    "            new_num[numb].shape[0],\n",
    "            new_num[numb].shape[1] * new_num[numb].shape[2] * new_num[numb].shape[3]\n",
    "        )\n",
    "        initial_popl = np.tile(initial_popl, (population_size // new_num[numb].shape[0], 1))\n",
    "        prev_popl = [[0, 0]]\n",
    "        \n",
    "        for gen in range(generations):\n",
    "            \n",
    "            change = False\n",
    "            while not change:\n",
    "                data, fitness = genetic_op(initial_popl, required_val, crossover_rate, mutation_rate)\n",
    "                data_with_fitness = zip(data, fitness)\n",
    "                data_with_fitness = sorted(data_with_fitness, key=lambda x: x[1], reverse=True)\n",
    "    \n",
    "                # Now select the promoted data for the next round\n",
    "                promotion = data_with_fitness[:int(population_size * promotion_rate)]\n",
    "                # promotion = roulette_select(list(data), fitness, int(population_size * promotion_rate))\n",
    "                if prev_popl[0][1] > promotion[0][1]:\n",
    "                    initial_popl = np.asarray([x[0] for x in prev_popl])\n",
    "                else:\n",
    "                    only_data = [x[0] for x in promotion]\n",
    "                    initial_popl = np.asarray(only_data * multiplier)\n",
    "                    prev_popl = promotion * multiplier\n",
    "                    saved_gen = gen\n",
    "                    change = True\n",
    "            print(\"Max fitness for gen {} is {}\".format(gen, promotion[0][1]))\n",
    "            if (promotion[0][1] > .80 and gen > 50) or (promotion[0][1] > 0.95):\n",
    "                print(\"Adding the image to the new array...\")\n",
    "                fit_num.append(promotion[0][0])\n",
    "                break\n",
    "except KeyboardInterrupt:\n",
    "    print(\"GA stopped!\")"
   ]
  },
  {
   "cell_type": "code",
   "execution_count": 168,
   "metadata": {},
   "outputs": [],
   "source": [
    "irregular = np.array(fit_num)\n",
    "np.save(\"irregular_cifar.npz\", irregular)"
   ]
  },
  {
   "cell_type": "code",
   "execution_count": 169,
   "metadata": {},
   "outputs": [
    {
     "data": {
      "image/png": "[encoded data removed]",
      "text/plain": [
       "<matplotlib.figure.Figure at 0x7fe7304d18d0>"
      ]
     },
     "metadata": {},
     "output_type": "display_data"
    },
    {
     "data": {
      "image/png": "[encoded data removed]",
      "text/plain": [
       "<matplotlib.figure.Figure at 0x7fe7303c6080>"
      ]
     },
     "metadata": {},
     "output_type": "display_data"
    },
    {
     "data": {
      "image/png": "[encoded data removed]",
      "text/plain": [
       "<matplotlib.figure.Figure at 0x7fe7303f36a0>"
      ]
     },
     "metadata": {},
     "output_type": "display_data"
    },
    {
     "data": {
      "image/png": "[encoded data removed]",
      "text/plain": [
       "<matplotlib.figure.Figure at 0x7fe73035da58>"
      ]
     },
     "metadata": {},
     "output_type": "display_data"
    },
    {
     "data": {
      "image/png": "[encoded data removed]",
      "text/plain": [
       "<matplotlib.figure.Figure at 0x7fe730507908>"
      ]
     },
     "metadata": {},
     "output_type": "display_data"
    },
    {
     "data": {
      "image/png": "[encoded data removed]",
      "text/plain": [
       "<matplotlib.figure.Figure at 0x7fe73013cac8>"
      ]
     },
     "metadata": {},
     "output_type": "display_data"
    },
    {
     "data": {
      "image/png": "[encoded data removed]",
      "text/plain": [
       "<matplotlib.figure.Figure at 0x7fe73046ea90>"
      ]
     },
     "metadata": {},
     "output_type": "display_data"
    },
    {
     "data": {
      "image/png": "[encoded data removed]",
      "text/plain": [
       "<matplotlib.figure.Figure at 0x7fe73102e6d8>"
      ]
     },
     "metadata": {},
     "output_type": "display_data"
    },
    {
     "data": {
      "image/png": "[encoded data removed]",
      "text/plain": [
       "<matplotlib.figure.Figure at 0x7fe7306138d0>"
      ]
     },
     "metadata": {},
     "output_type": "display_data"
    },
    {
     "data": {
      "image/png": "[encoded data removed]",
      "text/plain": [
       "<matplotlib.figure.Figure at 0x7fe730753780>"
      ]
     },
     "metadata": {},
     "output_type": "display_data"
    }
   ],
   "source": [
    "for x in fit_num:\n",
    "    test_datapoint = x\n",
    "    plt.imshow(test_datapoint.reshape(32, 32, 3))\n",
    "    plt.show()"
   ]
  },
  {
   "cell_type": "code",
   "execution_count": 171,
   "metadata": {},
   "outputs": [
    {
     "name": "stdout",
     "output_type": "stream",
     "text": [
      "Accuracy for number 0: 0.9660276174545288\nAccuracy for number 1: 0.9633615016937256\nAccuracy for number 2: 0.9646192789077759\nAccuracy for number 3: 0.954217255115509\nAccuracy for number 4: 0.9559621214866638\nAccuracy for number 5: 0.9751131534576416\nAccuracy for number 6: 0.9564897418022156\nAccuracy for number 7: 0.9540126919746399\nAccuracy for number 8: 0.950876772403717\nAccuracy for number 9: 0.9679608345031738\n"
     ]
    }
   ],
   "source": [
    "test = np.array(fit_num).reshape(10, 32, 32, 3)\n",
    "r = model.predict(test)\n",
    "\n",
    "for x in range(10):\n",
    "    print(\"Accuracy for number {}: {}\".format(x, r[x][x]))"
   ]
  },
  {
   "cell_type": "code",
   "execution_count": null,
   "metadata": {},
   "outputs": [],
   "source": []
  }
 ],
 "metadata": {
  "kernelspec": {
   "display_name": "Python 2",
   "language": "python",
   "name": "python2"
  },
  "language_info": {
   "codemirror_mode": {
    "name": "ipython",
    "version": 2
   },
   "file_extension": ".py",
   "mimetype": "text/x-python",
   "name": "python",
   "nbconvert_exporter": "python",
   "pygments_lexer": "ipython2",
   "version": "2.7.6"
  }
 },
 "nbformat": 4,
 "nbformat_minor": 0
}
